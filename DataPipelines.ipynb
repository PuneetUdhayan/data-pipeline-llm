{
 "cells": [
  {
   "cell_type": "markdown",
   "id": "c9ebc55a-00cf-42d1-b749-a76eccd2c801",
   "metadata": {},
   "source": [
    "# Orchestrating Data Pipelines with Large Language Models\n",
    "\n",
    "Read the blog post about this notebook here:\n"
   ]
  },
  {
   "cell_type": "markdown",
   "id": "1733c6ba-07e4-42ba-9561-f5ae4cf0ad36",
   "metadata": {},
   "source": [
    "Install the dependencies"
   ]
  },
  {
   "cell_type": "code",
   "execution_count": 4,
   "id": "075e7c4e-6b21-49f5-88f6-d0e00c90a529",
   "metadata": {},
   "outputs": [],
   "source": [
    "%%capture --no-stderr\n",
    "%pip install --quiet -U langchain_openai langchain_core langgraph networkx matplotlib langchain pydantic"
   ]
  },
  {
   "cell_type": "markdown",
   "id": "dc8a0ea0-1694-4f51-81ca-66d16b2e284b",
   "metadata": {},
   "source": [
    "Below I have create some dummy amazon scraping tools. The tools do not actually scrape amazon but define the input and output schemas that an actual amazon scraper would have. This is enough for our demonstation as we do not actually run the tools"
   ]
  },
  {
   "cell_type": "code",
   "execution_count": 5,
   "id": "fe1e70e3-9ecb-4a2d-8b60-55b227d04c6d",
   "metadata": {},
   "outputs": [],
   "source": [
    "import datetime\n",
    "from typing import List, Optional\n",
    "from pydantic import BaseModel, Field, HttpUrl\n",
    "from langchain.tools import StructuredTool\n",
    "\n",
    "# --- Amazon Structures ---\n",
    "\n",
    "class AmazonProductScraperInputs(BaseModel):\n",
    "    product_url: HttpUrl = Field(\n",
    "        ...,\n",
    "        description=\"Amazon product URL. Example: https://www.amazon.com/dp/B09B2SBHQK or https://www.amazon.in/dp/B0BY8MXBPM\"\n",
    "    )\n",
    "\n",
    "class AmazonProduct(BaseModel):\n",
    "    title: str = Field(..., description=\"Product title\")\n",
    "    url: HttpUrl = Field(\n",
    "        ...,\n",
    "        description=\"Canonical Amazon product URL. Example: https://www.amazon.com/dp/B09B2SBHQK\"\n",
    "    )\n",
    "    image_urls: List[HttpUrl] = Field(\n",
    "        ...,\n",
    "        description=\"List of product image URLs. Example: ['https://m.media-amazon.com/images/I/71xb2xkN5qL._AC_SL1500_.jpg']\"\n",
    "    )\n",
    "    price: float = Field(..., description=\"Pricing details of the product\")\n",
    "    rating: Optional[float] = Field(None, description=\"Product rating (0-5)\")\n",
    "    review_count: Optional[int] = Field(0, description=\"Number of reviews\")\n",
    "    availability: Optional[str] = Field(None, description=\"Product availability status (e.g., 'In Stock', 'Currently unavailable')\")\n",
    "    features: Optional[List[str]] = Field(None, description=\"List of key product features (often bullet points)\")\n",
    "    seller: Optional[str] = Field(None, description=\"Seller name (e.g., 'Amazon.com', 'Sold by X, Fulfilled by Amazon')\")\n",
    "    asin: str = Field(..., description=\"Amazon Standard Identification Number (ASIN)\")\n",
    "\n",
    "def amazon_product_scraper(item:AmazonProductScraperInputs) -> AmazonProduct:\n",
    "    \"\"\"\n",
    "    Scraper to fetch a product's information from the product page of Amazon.\n",
    "    \"\"\"\n",
    "    return AmazonProduct(\n",
    "        title=\"Echo Dot (5th Gen, 2022 release) | Smart speaker with Alexa | Charcoal\",\n",
    "        url=\"https://www.amazon.com/dp/B09B2SBHQK\", # Example URL\n",
    "        image_urls=[\"https://m.media-amazon.com/images/I/71xb2xkN5qL._AC_SL1500_.jpg\"], # Example URL\n",
    "        price=49.99,\n",
    "        rating=4.7,\n",
    "        review_count=156000,\n",
    "        availability=\"In Stock\",\n",
    "        features=[\"Our best sounding Echo Dot yet\", \"Control music with your voice\", \"Ask Alexa for weather, news, timers, etc.\", \"Control compatible smart home devices\"],\n",
    "        seller=\"Amazon.com\",\n",
    "        asin=\"B09B2SBHQK\" # Matches example URL\n",
    "    )\n",
    "\n",
    "class AmazonPLPInputs(BaseModel):\n",
    "    product_listing_url: HttpUrl = Field(\n",
    "        ...,\n",
    "        description=\"\"\"Amazon product listing page URL (search results, category/browse node).\n",
    "        Example .com Search URL: https://www.amazon.com/s?k=echo+dot\n",
    "        Example .com Browse Node URL: https://www.amazon.com/gp/browse.html?node=172282\n",
    "        Example .in Search URL: https://www.amazon.in/s?k=smartphones&ref=nb_sb_noss_2\n",
    "        Example .in Browse Node URL: https://www.amazon.in/gp/browse.html?node=1389401031\"\"\"\n",
    "    )\n",
    "    max_count: Optional[int] = Field(None, description=\"Limit the number of products that are returned\")\n",
    "\n",
    "class AmazonPLPItem(BaseModel):\n",
    "    url: HttpUrl = Field(\n",
    "        ...,\n",
    "        description=\"URL of the Amazon product found on the listing page. Example: https://www.amazon.com/dp/B09B2SBHQK\"\n",
    "    )\n",
    "\n",
    "def amazon_plp_scraper(item:AmazonPLPInputs) -> List[AmazonPLPItem]:\n",
    "    \"\"\"\n",
    "    Scraper to fetch all products from an Amazon product listing page.\n",
    "    \"\"\"\n",
    "    return [\n",
    "        AmazonPLPItem(url=\"https://www.amazon.com/dp/B09B2SBHQK\"), # Example URL 1\n",
    "        AmazonPLPItem(url=\"https://www.amazon.com/dp/B09B2SWS7B\")  # Example URL 2 (different color maybe)\n",
    "        ]\n"
   ]
  },
  {
   "cell_type": "markdown",
   "id": "6d245a0e-f846-4aa0-96dc-ea043f0afec7",
   "metadata": {},
   "source": [
    "Set the OpenAI key"
   ]
  },
  {
   "cell_type": "code",
   "execution_count": 6,
   "id": "f180a12d-2b3a-438f-b815-57b509655e5a",
   "metadata": {},
   "outputs": [
    {
     "name": "stdin",
     "output_type": "stream",
     "text": [
      "OPENAI_API_KEY:  ········\n"
     ]
    }
   ],
   "source": [
    "import os, getpass\n",
    "\n",
    "def _set_env(var: str):\n",
    "    if not os.environ.get(var):\n",
    "        os.environ[var] = getpass.getpass(f\"{var}: \")\n",
    "\n",
    "_set_env(\"OPENAI_API_KEY\")"
   ]
  },
  {
   "cell_type": "markdown",
   "id": "2e61a891-822c-40f8-869f-238171a7b239",
   "metadata": {},
   "source": [
    "In the cell below, I am obtaining the input and output schemas of the tools in tool_list in json format. This makes it easy for me to store the tool details in a database for later retreival"
   ]
  },
  {
   "cell_type": "code",
   "execution_count": 17,
   "id": "7cab4c2d-51b2-4369-8e1a-3a2979b98a98",
   "metadata": {},
   "outputs": [],
   "source": [
    "import inspect\n",
    "import typing\n",
    "import json\n",
    "from langchain_core.utils.function_calling import convert_to_openai_tool\n",
    "tool_list = [amazon_product_scraper, amazon_plp_scraper]\n",
    "\n",
    "def get_output_details_for_tool(tool):\n",
    "    signature = inspect.signature(tool)\n",
    "    return_annotation = signature.return_annotation\n",
    "\n",
    "    # Check if the return annotation is a generic type like List[Model]\n",
    "    origin = typing.get_origin(return_annotation)\n",
    "    if origin is list or origin is List: # Handles both list and typing.List\n",
    "        args = typing.get_args(return_annotation)\n",
    "        if args:\n",
    "            inner_type = args[0]\n",
    "            # Check if the inner type is a Pydantic model\n",
    "            if inspect.isclass(inner_type) and issubclass(inner_type, BaseModel):\n",
    "                return inner_type.model_json_schema()\n",
    "    # Optional: Handle case where the function returns a single Pydantic model directly\n",
    "    elif inspect.isclass(return_annotation) and issubclass(return_annotation, BaseModel):\n",
    "        return return_annotation.model_json_schema()\n",
    "    raise Exception(\"Could not determine output format of tool\")\n",
    "\n",
    "def get_openai_spec(tool):\n",
    "    open_ai_spec = convert_to_openai_tool(i)\n",
    "    open_ai_spec['function']['description'] = open_ai_spec['function'].get('description','')+f\"\"\"\n",
    "\n",
    "The output format is:\n",
    "{json.dumps(get_output_details_for_tool(tool))}\n",
    "\n",
    "    \"\"\"\n",
    "    return open_ai_spec\n",
    "\n",
    "tool_details = []\n",
    "for i in tool_list:\n",
    "    tool_details.append({\n",
    "        \"openai_spec\": get_openai_spec(i),\n",
    "        \"output_details\": get_output_details_for_tool(i)\n",
    "    })"
   ]
  },
  {
   "cell_type": "markdown",
   "id": "c1ca7741-53b1-4ba8-ada9-df41f2c0cb2d",
   "metadata": {},
   "source": [
    "Setup the GPT 4 model with tools"
   ]
  },
  {
   "cell_type": "code",
   "execution_count": 19,
   "id": "192f77d3-2e56-4b5b-b4e1-13e8fa45bd5a",
   "metadata": {},
   "outputs": [],
   "source": [
    "from langchain_openai import ChatOpenAI\n",
    "llm = ChatOpenAI(model=\"gpt-4o\")\n",
    "llm_with_tools = llm.bind_tools([i['openai_spec'] for i in tool_details], parallel_tool_calls=False)"
   ]
  },
  {
   "cell_type": "markdown",
   "id": "7b4f57c9-020e-46eb-b77b-51e9daf1a6ac",
   "metadata": {},
   "source": [
    "Define the custom tool call executer which mocks tool calls"
   ]
  },
  {
   "cell_type": "code",
   "execution_count": 20,
   "id": "dd350ef2-3f6e-49fb-8b34-12fe3930d66c",
   "metadata": {},
   "outputs": [],
   "source": [
    "from langchain_core.messages import AIMessage, HumanMessage, SystemMessage, ToolMessage\n",
    "\n",
    "def get_tool_schema(ai_message: AIMessage) -> str:\n",
    "    if not ai_message.tool_calls:\n",
    "        raise Exception(\"The given AI message has no tool calls\")\n",
    "    tool_call = ai_message.tool_calls[0]\n",
    "    tool = next((x for x in tool_details if x['openai_spec']['function']['name'] == tool_call['name']), None)\n",
    "    if not tool:\n",
    "        raise Exception(\"Tool not found\")\n",
    "    return tool\n",
    "\n",
    "def mock_tool_call(tool_schema):\n",
    "\n",
    "    a = f'''\n",
    "Create a dummy output for the tool {tool_schema['openai_spec']['function']['name']} \n",
    "\n",
    "the function's input schema is\n",
    "\n",
    "'''+json.dumps(tool_schema['openai_spec']['function']['parameters'])+\"\"\"\n",
    "\n",
    "and  output schema is\n",
    "\n",
    "\"\"\"+json.dumps(tool_schema['output_details'])+\"\"\"\n",
    "\n",
    "please only provide the output in json format\n",
    "\"\"\"    \n",
    "    return llm.invoke(a)\n",
    "\n",
    "def get_json_tool_output(ai_message):\n",
    "    content = ai_message.content\n",
    "    json_start_index = content.find('{')\n",
    "    json_end_index = content.rfind('}')\n",
    "    try:\n",
    "        return json.loads(content[json_start_index: json_end_index+1])\n",
    "    except Exception as e:\n",
    "        print(\"Could not parse content : \"+content)\n",
    "        return content\n",
    "\n",
    "def get_tool_message(ai_message, dummy_output_message):\n",
    "    tool_call = ai_message.tool_calls[0]\n",
    "    return ToolMessage(name=tool_call['name'], content=dummy_output_message.content, tool_call_id=tool_call['id'])\n",
    "\n",
    "from pydantic import BaseModel, Field\n",
    "from typing import Any, Dict, List, Literal\n",
    "\n",
    "class OrpheusToolCall(BaseModel):\n",
    "    name: str\n",
    "    input: Any = Field(..., description=\"Input JSON for the tool call\")\n",
    "    output: Any = Field(..., description=\"Output JSON from the tool call\")\n",
    "\n",
    "def get_orpheus_tool_call(ai_message, json_tool_output):\n",
    "    tool_call = ai_message.tool_calls[0]\n",
    "    return OrpheusToolCall(\n",
    "        name=tool_call['name'],\n",
    "        input=tool_call['args'],\n",
    "        output=json_tool_output\n",
    "    )"
   ]
  },
  {
   "cell_type": "markdown",
   "id": "ce42c459-e438-4534-bf5a-05c5c8b48550",
   "metadata": {},
   "source": [
    "Setup the LangGraph graph"
   ]
  },
  {
   "cell_type": "code",
   "execution_count": 21,
   "id": "f580e272-8d95-4521-a8d5-cf656e420f57",
   "metadata": {},
   "outputs": [
    {
     "data": {
      "image/png": "[encoded data removed]",
      "text/plain": [
       "<IPython.core.display.Image object>"
      ]
     },
     "metadata": {},
     "output_type": "display_data"
    }
   ],
   "source": [
    "from langgraph.graph import MessagesState\n",
    "\n",
    "from langgraph.graph import START, StateGraph, END\n",
    "from langgraph.prebuilt import tools_condition\n",
    "from langgraph.prebuilt import ToolNode\n",
    "from IPython.display import Image, display\n",
    "\n",
    "class MessagesState(MessagesState):\n",
    "    # Add any keys needed beyond messages, which is pre-built \n",
    "    orpheus_tool_calls: List[OrpheusToolCall] = Field(default_factory=list)\n",
    "\n",
    "def tool_calling_llm(state: MessagesState):\n",
    "    return {\"messages\": [llm_with_tools.invoke(state[\"messages\"])]}\n",
    "\n",
    "def custom_tool_call(state: MessagesState):\n",
    "    ai_message = state['messages'][-1]\n",
    "    tool_schema = get_tool_schema(ai_message)\n",
    "    dummy_output_message = mock_tool_call(tool_schema)\n",
    "    json_tool_output = get_json_tool_output(dummy_output_message)\n",
    "    tool_message = get_tool_message(ai_message, dummy_output_message)\n",
    "    orpheus_tool_call = get_orpheus_tool_call(ai_message, json_tool_output)\n",
    "    updated_orpheus_tool_calls = state.get('orpheus_tool_calls', []) + [orpheus_tool_call]\n",
    "    return {\"messages\":[tool_message], \"orpheus_tool_calls\": updated_orpheus_tool_calls}\n",
    "\n",
    "def is_tool_call(state) -> Literal[\"custom_tool_call\", END]:\n",
    "    latest_message = state['messages'][-1]\n",
    "    if latest_message.tool_calls:\n",
    "        return \"custom_tool_call\"\n",
    "    return END\n",
    "    \n",
    "\n",
    "builder = StateGraph(MessagesState)\n",
    "builder.add_node(\"tool_calling_llm\", tool_calling_llm)\n",
    "builder.add_node(\"custom_tool_call\", custom_tool_call)\n",
    "builder.add_edge(START, \"tool_calling_llm\")\n",
    "builder.add_conditional_edges(\"tool_calling_llm\", is_tool_call)\n",
    "builder.add_edge(\"custom_tool_call\", \"tool_calling_llm\")\n",
    "graph = builder.compile()\n",
    "display(Image(graph.get_graph(xray=True).draw_mermaid_png()))"
   ]
  },
  {
   "cell_type": "markdown",
   "id": "dba15c4c-ccc4-4e5a-adbf-a5dd9e909275",
   "metadata": {},
   "source": [
    "Creating the system prompt for the agent"
   ]
  },
  {
   "cell_type": "code",
   "execution_count": 22,
   "id": "f5c2f08f-3744-4cb4-9bd0-eda8120c47bc",
   "metadata": {},
   "outputs": [],
   "source": [
    "system_prompt = [SystemMessage(content=\"\"\"\n",
    "You are an assistant for orchestration scraping or other long running tasks.\n",
    "\n",
    "You need to understand the users input and use the appropriate scraper to fetch the desired information. \n",
    "In some cases it will require more than one scraper to get the desired results.\n",
    "Users might ask for a specific amount of data, if insufficient data is present that is not a problem. Do not mention it to the user.\n",
    "\n",
    "The user query is:\n",
    "\n",
    "\"\"\")]"
   ]
  },
  {
   "cell_type": "markdown",
   "id": "985ee7b7-5267-438a-b300-5af467d2be3d",
   "metadata": {},
   "source": [
    "Invoking the agent with the user prompt"
   ]
  },
  {
   "cell_type": "code",
   "execution_count": 23,
   "id": "1bd13694-8edd-45cd-8daf-448e03908761",
   "metadata": {},
   "outputs": [],
   "source": [
    "messages = [\n",
    "    HumanMessage(\n",
    "        content=\"Can you get price rating and asin info from https://www.amazon.in/gp/browse.html?node=1968126031&ref_=nav_em_sbc_mfashion_innerwear_0_2_10_6 a 100 products should do\",\n",
    "        name=\"Puneet\"\n",
    "    )\n",
    "]\n",
    "state = graph.invoke(\n",
    "    {\"messages\":system_prompt+messages},\n",
    "    config={\"max_iterations\": 10}\n",
    ")"
   ]
  },
  {
   "cell_type": "code",
   "execution_count": 24,
   "id": "cd895810-0251-480f-90a1-7081217cceaa",
   "metadata": {},
   "outputs": [
    {
     "name": "stdout",
     "output_type": "stream",
     "text": [
      "SystemMessage(content='\\nYou are an assistant for orchestration scraping or other long running tasks.\\n\\nYou need to understand the users input and use the appropriate scraper to fetch the desired information. \\nIn some cases it will require more than one scraper to get the desired results.\\nUsers might ask for a specific amount of data, if insufficient data is present that is not a problem. Do not mention it to the user.\\n\\nThe user query is:\\n\\n', additional_kwargs={}, response_metadata={}, id='779d2f27-2ba2-486e-bfa3-33ec902eef2f')\n",
      "\n",
      "\n",
      "    ===============\n",
      "\n",
      "    \n",
      "HumanMessage(content='Can you get price rating and asin info from https://www.amazon.in/gp/browse.html?node=1968126031&ref_=nav_em_sbc_mfashion_innerwear_0_2_10_6 a 100 products should do', additional_kwargs={}, response_metadata={}, name='Puneet', id='624503e8-86be-4b33-9801-d94f85d93b0a')\n",
      "\n",
      "\n",
      "    ===============\n",
      "\n",
      "    \n",
      "AIMessage(content='', additional_kwargs={'tool_calls': [{'id': 'call_9v4VtLIf1GfRoUj3vIb1MXjo', 'function': {'arguments': '{\"item\":{\"product_listing_url\":\"https://www.amazon.in/gp/browse.html?node=1968126031&ref_=nav_em_sbc_mfashion_innerwear_0_2_10_6\",\"max_count\":100}}', 'name': 'amazon_plp_scraper'}, 'type': 'function'}], 'refusal': None}, response_metadata={'token_usage': {'completion_tokens': 61, 'prompt_tokens': 1048, 'total_tokens': 1109, 'completion_tokens_details': {'accepted_prediction_tokens': 0, 'audio_tokens': 0, 'reasoning_tokens': 0, 'rejected_prediction_tokens': 0}, 'prompt_tokens_details': {'audio_tokens': 0, 'cached_tokens': 0}}, 'model_name': 'gpt-4o-2024-08-06', 'system_fingerprint': 'fp_07871e2ad8', 'id': 'chatcmpl-Bp7eJS6thOxYDgb2AR0P6IiRzinc4', 'service_tier': 'default', 'finish_reason': 'tool_calls', 'logprobs': None}, id='run--4f11223c-ede6-4b0e-8395-42599590eb0e-0', tool_calls=[{'name': 'amazon_plp_scraper', 'args': {'item': {'product_listing_url': 'https://www.amazon.in/gp/browse.html?node=1968126031&ref_=nav_em_sbc_mfashion_innerwear_0_2_10_6', 'max_count': 100}}, 'id': 'call_9v4VtLIf1GfRoUj3vIb1MXjo', 'type': 'tool_call'}], usage_metadata={'input_tokens': 1048, 'output_tokens': 61, 'total_tokens': 1109, 'input_token_details': {'audio': 0, 'cache_read': 0}, 'output_token_details': {'audio': 0, 'reasoning': 0}})\n",
      "\n",
      "\n",
      "    ===============\n",
      "\n",
      "    \n",
      "ToolMessage(content='```json\\n{\\n  \"url\": \"https://www.amazon.com/dp/B09B2SBHQK\"\\n}\\n```', name='amazon_plp_scraper', id='c33812c7-2739-4fd4-a670-2a423666b121', tool_call_id='call_9v4VtLIf1GfRoUj3vIb1MXjo')\n",
      "\n",
      "\n",
      "    ===============\n",
      "\n",
      "    \n",
      "AIMessage(content='', additional_kwargs={'tool_calls': [{'id': 'call_kSlzAhTqXEDxM3HtaqVaug5C', 'function': {'arguments': '{\"item\":{\"product_url\":\"https://www.amazon.com/dp/B09B2SBHQK\"}}', 'name': 'amazon_product_scraper'}, 'type': 'function'}], 'refusal': None}, response_metadata={'token_usage': {'completion_tokens': 32, 'prompt_tokens': 1146, 'total_tokens': 1178, 'completion_tokens_details': {'accepted_prediction_tokens': 0, 'audio_tokens': 0, 'reasoning_tokens': 0, 'rejected_prediction_tokens': 0}, 'prompt_tokens_details': {'audio_tokens': 0, 'cached_tokens': 1024}}, 'model_name': 'gpt-4o-2024-08-06', 'system_fingerprint': 'fp_07871e2ad8', 'id': 'chatcmpl-Bp7eMaKAUwypJtr45foptn0JAsrLt', 'service_tier': 'default', 'finish_reason': 'tool_calls', 'logprobs': None}, id='run--3b9fe61c-bb13-4cec-acac-af7af1efed06-0', tool_calls=[{'name': 'amazon_product_scraper', 'args': {'item': {'product_url': 'https://www.amazon.com/dp/B09B2SBHQK'}}, 'id': 'call_kSlzAhTqXEDxM3HtaqVaug5C', 'type': 'tool_call'}], usage_metadata={'input_tokens': 1146, 'output_tokens': 32, 'total_tokens': 1178, 'input_token_details': {'audio': 0, 'cache_read': 1024}, 'output_token_details': {'audio': 0, 'reasoning': 0}})\n",
      "\n",
      "\n",
      "    ===============\n",
      "\n",
      "    \n",
      "ToolMessage(content='```json\\n{\\n    \"title\": \"Echo Dot (4th Gen, 2020 release) | Smart speaker with Alexa | Charcoal\",\\n    \"url\": \"https://www.amazon.com/dp/B07XJ8C8F5\",\\n    \"image_urls\": [\\n        \"https://m.media-amazon.com/images/I/71xb2xkN5qL._AC_SL1500_.jpg\",\\n        \"https://m.media-amazon.com/images/I/81iC7++LKbL._AC_SL1500_.jpg\"\\n    ],\\n    \"price\": 49.99,\\n    \"rating\": 4.7,\\n    \"review_count\": 23456,\\n    \"availability\": \"In Stock\",\\n    \"features\": [\\n        \"Meet Echo Dot - Our most popular smart speaker with a fabric design. It is our most compact smart speaker that fits perfectly into small spaces.\",\\n        \"Improved speaker quality - Better speaker quality than Echo Dot Gen 2 for richer and louder sound. Pair with a second Echo Dot for stereo sound.\",\\n        \"Voice control your music - Stream songs from Amazon Music, Apple Music, Spotify, Sirius XM, and others.\",\\n        \"Ready to help - Ask Alexa to play music, answer questions, read the news, check the weather, set alarms, control compatible smart home devices, and more.\",\\n        \"Connect with others - Call almost anyone hands-free. Instantly drop in on other rooms in your home or make an announcement to every room with a compatible Echo device.\"\\n    ],\\n    \"seller\": \"Amazon.com\",\\n    \"asin\": \"B07XJ8C8F5\"\\n}\\n```', name='amazon_product_scraper', id='374b56ef-86ee-4a11-8bfc-23e7cdf032b8', tool_call_id='call_kSlzAhTqXEDxM3HtaqVaug5C')\n",
      "\n",
      "\n",
      "    ===============\n",
      "\n",
      "    \n",
      "AIMessage(content=\"Here's the product information I found:\\n\\n- **Title**: Echo Dot (4th Gen, 2020 release) | Smart speaker with Alexa | Charcoal\\n- **ASIN**: B07XJ8C8F5\\n- **URL**: [Product Link](https://www.amazon.com/dp/B07XJ8C8F5)\\n- **Price**: $49.99\\n- **Rating**: 4.7\\n- **Review Count**: 23,456\\n\\nWould you like information on another product?\", additional_kwargs={'refusal': None}, response_metadata={'token_usage': {'completion_tokens': 115, 'prompt_tokens': 1528, 'total_tokens': 1643, 'completion_tokens_details': {'accepted_prediction_tokens': 0, 'audio_tokens': 0, 'reasoning_tokens': 0, 'rejected_prediction_tokens': 0}, 'prompt_tokens_details': {'audio_tokens': 0, 'cached_tokens': 0}}, 'model_name': 'gpt-4o-2024-08-06', 'system_fingerprint': 'fp_07871e2ad8', 'id': 'chatcmpl-Bp7eXgCLOicFuxaYZlpVDt1b2InNh', 'service_tier': 'default', 'finish_reason': 'stop', 'logprobs': None}, id='run--9a4c9125-0438-4822-8fa5-8ea78fd9dec9-0', usage_metadata={'input_tokens': 1528, 'output_tokens': 115, 'total_tokens': 1643, 'input_token_details': {'audio': 0, 'cache_read': 0}, 'output_token_details': {'audio': 0, 'reasoning': 0}})\n",
      "\n",
      "\n",
      "    ===============\n",
      "\n",
      "    \n"
     ]
    }
   ],
   "source": [
    "from pprint import pprint\n",
    "\n",
    "for i in state['messages']:\n",
    "    pprint(i)\n",
    "    print(\"\"\"\n",
    "    \n",
    "    ===============\n",
    "    \n",
    "    \"\"\")"
   ]
  },
  {
   "cell_type": "markdown",
   "id": "3c30b64b-2296-4221-ae04-a8780befc7ba",
   "metadata": {},
   "source": [
    "We will now build the function call chain using the LangGraph graph's state"
   ]
  },
  {
   "cell_type": "code",
   "execution_count": 25,
   "id": "a8b88fd2-f86f-4e2f-95db-69a5070b44d3",
   "metadata": {},
   "outputs": [],
   "source": [
    "from typing import List, Dict, Any\n",
    "from collections import namedtuple\n",
    "\n",
    "# Now stores multiple shared keys/values\n",
    "ChainLink = namedtuple(\"ChainLink\", [\"from_tool\", \"to_tool\", \"shared_values\"])\n",
    "\n",
    "def build_function_call_chain(calls: List[Any]) -> List[ChainLink]:\n",
    "    chain = []\n",
    "\n",
    "    for i in range(len(calls) - 1):\n",
    "        from_call = calls[i]\n",
    "        to_call = calls[i + 1]\n",
    "\n",
    "        shared_values = []\n",
    "\n",
    "        # Flatten input and output for comparison\n",
    "        def flatten(d: Dict, prefix: str = '') -> Dict[str, Any]:\n",
    "            items = {}\n",
    "            for k, v in d.items():\n",
    "                if isinstance(v, dict):\n",
    "                    items.update(flatten(v, prefix + k + '.'))\n",
    "                else:\n",
    "                    items[prefix + k] = v\n",
    "            return items\n",
    "\n",
    "        from_output_flat = flatten(from_call.output)\n",
    "        to_input_flat = flatten(to_call.input)\n",
    "\n",
    "        # Match every shared value\n",
    "        for key_out, value_out in from_output_flat.items():\n",
    "            for key_in, value_in in to_input_flat.items():\n",
    "                if value_out == value_in:\n",
    "                    shared_values.append({\n",
    "                        \"input_key\": key_in,\n",
    "                        \"output_key\": key_out,\n",
    "                        \"value\": value_out\n",
    "                    })\n",
    "\n",
    "        if shared_values:\n",
    "            chain.append(ChainLink(\n",
    "                from_tool=from_call.name,\n",
    "                to_tool=to_call.name,\n",
    "                shared_values=shared_values\n",
    "            ))\n",
    "\n",
    "    return chain"
   ]
  },
  {
   "cell_type": "code",
   "execution_count": 26,
   "id": "eba24dbd-1b66-4444-b00f-bb9c1bb2934a",
   "metadata": {},
   "outputs": [],
   "source": [
    "chain = build_function_call_chain(state['orpheus_tool_calls'])"
   ]
  },
  {
   "cell_type": "markdown",
   "id": "f8161016-8e78-4e77-a380-89122021daca",
   "metadata": {},
   "source": [
    "The function call chain had been created, let us now visualise it."
   ]
  },
  {
   "cell_type": "code",
   "execution_count": 28,
   "id": "f4027486-d8ba-4302-9a2a-b47abf600dbb",
   "metadata": {},
   "outputs": [],
   "source": [
    "import networkx as nx\n",
    "import matplotlib.pyplot as plt\n",
    "\n",
    "def visualize_chain_matplotlib(chain):\n",
    "    G = nx.DiGraph()\n",
    "\n",
    "    edge_labels = {}\n",
    "\n",
    "    for link in chain:\n",
    "        from_tool = link.from_tool\n",
    "        to_tool = link.to_tool\n",
    "\n",
    "        label_lines = [\n",
    "            f\"{s['output_key']} → {s['input_key']} = {str(s['value'])[:20]}{'...' if len(str(s['value'])) > 20 else ''}\"\n",
    "            for s in link.shared_values\n",
    "        ]\n",
    "        label = \"\\n\".join(label_lines)\n",
    "\n",
    "        G.add_edge(from_tool, to_tool)\n",
    "        edge_labels[(from_tool, to_tool)] = label\n",
    "\n",
    "    pos = nx.spring_layout(G, seed=42)\n",
    "    plt.figure(figsize=(10, 6))\n",
    "    nx.draw(G, pos, with_labels=True, node_color=\"lightgray\", node_size=2000, font_size=10, font_weight=\"bold\", edge_color=\"gray\", arrows=True)\n",
    "    nx.draw_networkx_edge_labels(G, pos, edge_labels=edge_labels, font_size=8)\n",
    "    plt.title(\"Function Call Chain\", fontsize=14)\n",
    "    plt.axis('off')\n",
    "    plt.show()"
   ]
  },
  {
   "cell_type": "code",
   "execution_count": null,
   "id": "422a752c-e30b-49d2-bbf5-849264a6d5e1",
   "metadata": {},
   "outputs": [],
   "source": []
  }
 ],
 "metadata": {
  "kernelspec": {
   "display_name": "Python 3 (ipykernel)",
   "language": "python",
   "name": "python3"
  },
  "language_info": {
   "codemirror_mode": {
    "name": "ipython",
    "version": 3
   },
   "file_extension": ".py",
   "mimetype": "text/x-python",
   "name": "python",
   "nbconvert_exporter": "python",
   "pygments_lexer": "ipython3",
   "version": "3.11.9"
  }
 },
 "nbformat": 4,
 "nbformat_minor": 5
}
